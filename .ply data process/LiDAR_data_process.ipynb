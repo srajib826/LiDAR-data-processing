{
 "cells": [
  {
   "cell_type": "code",
   "execution_count": 1,
   "id": "1ed1f6d5",
   "metadata": {},
   "outputs": [],
   "source": [
    "import open3d as o3d\n",
    "import numpy as np\n",
    "import matplotlib.pyplot as plt "
   ]
  },
  {
   "cell_type": "code",
   "execution_count": 15,
   "id": "9a728895",
   "metadata": {},
   "outputs": [
    {
     "name": "stdout",
     "output_type": "stream",
     "text": [
      "geometry::PointCloud with 356197 points.\n",
      "[[-0.23506805 -1.5453726  -3.3401573 ]\n",
      " [-0.21324307 -1.5554496  -3.3364737 ]\n",
      " [-0.19324911 -1.5538268  -3.3326995 ]\n",
      " [-0.22263953 -1.5493715  -3.3387129 ]\n",
      " [ 0.02072874 -1.5584877  -3.3237386 ]\n",
      " [-0.23272416 -1.5479002  -3.322382  ]\n",
      " [-0.22161768 -1.547245   -3.3212202 ]\n",
      " [-0.2148668  -1.5479518  -3.3266428 ]\n",
      " [-0.20213604 -1.5459957  -3.3203444 ]\n",
      " [-0.15513435 -1.5552225  -3.3114181 ]]\n"
     ]
    }
   ],
   "source": [
    "\n",
    "pcd = o3d.io.read_point_cloud(\"pcd3.ply\")\n",
    "print(pcd)\n",
    "print(np.asarray(pcd.points)[:10, :])\n",
    "#o3d.visualization.draw_geometries([pcd])"
   ]
  },
  {
   "cell_type": "code",
   "execution_count": 5,
   "id": "261bb56e",
   "metadata": {},
   "outputs": [
    {
     "name": "stdout",
     "output_type": "stream",
     "text": [
      "geometry::PointCloud with 24998 points.\n"
     ]
    }
   ],
   "source": [
    "pcd = pcd.voxel_down_sample(voxel_size=0.05)\n",
    "pcd, ind = pcd.remove_statistical_outlier(nb_neighbors=20, std_ratio=2.0)\n",
    "print(pcd)"
   ]
  },
  {
   "cell_type": "code",
   "execution_count": 12,
   "id": "6cbe5c4f",
   "metadata": {},
   "outputs": [
    {
     "name": "stdout",
     "output_type": "stream",
     "text": [
      "24998\n",
      "[0 0 1 1 1 1 1 0 1 1 1 1 1 2 1 1 1 3 1 1 2 1 1 3 1 1 1 1 1 3 1 0 2 1 1 3 1\n",
      " 2 0 0 1 1 1 1 0 1 1 0 1 3]\n",
      "value:0----count:5053\n",
      "value:1----count:17275\n",
      "value:2----count:277\n",
      "value:3----count:2124\n",
      "value:4----count:143\n",
      "value:5----count:90\n",
      "value:6----count:36\n"
     ]
    }
   ],
   "source": [
    "\n",
    "# Cluster the point cloud to find different objects\n",
    "labels = np.array(pcd.cluster_dbscan(eps=0.3, min_points=5))\n",
    "print(len(labels))\n",
    "print(labels[:50])\n",
    "\n",
    "unique_no, counts = np.unique(labels, return_counts = True)\n",
    "\n",
    "for v,c in zip(unique_no, counts):\n",
    "    print(f'value:{v}----count:{c}')"
   ]
  },
  {
   "cell_type": "code",
   "execution_count": 22,
   "id": "31da166a",
   "metadata": {},
   "outputs": [
    {
     "data": {
      "text/plain": [
       "array([ 5053, 17275,   277,  2124,   143,    90,    36], dtype=int64)"
      ]
     },
     "execution_count": 22,
     "metadata": {},
     "output_type": "execute_result"
    }
   ],
   "source": [
    "np.bincount(labels[labels >= 0])"
   ]
  },
  {
   "cell_type": "code",
   "execution_count": 21,
   "id": "0b34be67",
   "metadata": {},
   "outputs": [
    {
     "name": "stdout",
     "output_type": "stream",
     "text": [
      "1\n"
     ]
    }
   ],
   "source": [
    "largest_cluster_index = np.argmax(np.bincount(labels[labels >= 0]))\n",
    "print(largest_cluster_index)"
   ]
  },
  {
   "cell_type": "code",
   "execution_count": 16,
   "id": "e56c9eb5",
   "metadata": {},
   "outputs": [
    {
     "name": "stdout",
     "output_type": "stream",
     "text": [
      "6\n",
      "point cloud has 7 clusters\n"
     ]
    }
   ],
   "source": [
    "\n",
    "# Find the cluster that represents the car\n",
    "max_label = labels.max()\n",
    "print(max_label)\n",
    "print(f\"point cloud has {max_label + 1} clusters\")\n",
    "\n",
    "\n",
    "colors = plt.get_cmap(\"tab20\")(labels / (max_label if max_label > 0 else 1))\n",
    "colors[labels == 6] = 0\n",
    "pcd.colors = o3d.utility.Vector3dVector(colors[:, :3])\n",
    "o3d.visualization.draw_geometries([pcd])"
   ]
  },
  {
   "cell_type": "code",
   "execution_count": null,
   "id": "8efc1a73",
   "metadata": {},
   "outputs": [],
   "source": []
  }
 ],
 "metadata": {
  "kernelspec": {
   "display_name": "Python 3 (ipykernel)",
   "language": "python",
   "name": "python3"
  },
  "language_info": {
   "codemirror_mode": {
    "name": "ipython",
    "version": 3
   },
   "file_extension": ".py",
   "mimetype": "text/x-python",
   "name": "python",
   "nbconvert_exporter": "python",
   "pygments_lexer": "ipython3",
   "version": "3.7.1"
  }
 },
 "nbformat": 4,
 "nbformat_minor": 5
}
